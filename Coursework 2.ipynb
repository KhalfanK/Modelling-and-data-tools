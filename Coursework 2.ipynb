{
 "cells": [
  {
   "cell_type": "markdown",
   "metadata": {},
   "source": [
    "# Coursework 2 - Atomistic simulation"
   ]
  },
  {
   "cell_type": "markdown",
   "metadata": {},
   "source": [
    "Please enter your name and student number into the Markdown cell below."
   ]
  },
  {
   "cell_type": "markdown",
   "metadata": {},
   "source": [
    "#### Name: Khalfan Khalfan\n",
    "#### Student Number: 10187477"
   ]
  },
  {
   "cell_type": "markdown",
   "metadata": {},
   "source": [
    "In this coursework we will explore some important concepts from atomistic simulation in more detail. To keep the simulations simple, we will be simulating binary collisions rather than collision cascades, which can take a long time to run."
   ]
  },
  {
   "cell_type": "markdown",
   "metadata": {},
   "source": [
    "#### <span style=\"color: green\"> General notes on marking (remove from student version):</span>\n",
    "Allocation of marks is shown for each task.\n",
    "\n",
    "Use half marks where necessary, for example:\n",
    "- A correct plot without proper labelling or formatting should only get half a mark\n",
    "- A partial explanation should only get half a mark\n",
    "- Code which contains enough correct features but does not work should only get half marks"
   ]
  },
  {
   "cell_type": "markdown",
   "metadata": {},
   "source": [
    "## Setup "
   ]
  },
  {
   "cell_type": "markdown",
   "metadata": {},
   "source": [
    "Please enter your Student ID in the cell below. This ID will be used throughout the coursework so please do not create any other variables named `ID`."
   ]
  },
  {
   "cell_type": "code",
   "execution_count": 1,
   "metadata": {},
   "outputs": [
    {
     "name": "stdout",
     "output_type": "stream",
     "text": [
      "Your PKA velocity for this notebook is defined as: (50.169131,0.000000,0.000000) ang/ps\n"
     ]
    }
   ],
   "source": [
    "ID = 10187477\n",
    "vpka = [50.0 + 10.0*ID%14747/14746,0.0,0.0]\n",
    "print('Your PKA velocity for this notebook is defined as: (%f,%f,%f) ang/ps' % (vpka[0],vpka[1],vpka[2]))"
   ]
  },
  {
   "cell_type": "markdown",
   "metadata": {},
   "source": [
    "Run the below cell to import some key modules."
   ]
  },
  {
   "cell_type": "code",
   "execution_count": 2,
   "metadata": {},
   "outputs": [],
   "source": [
    "import numpy as np \n",
    "import matplotlib.pyplot as plt\n",
    "from mpl_toolkits.mplot3d import Axes3D\n",
    "%matplotlib inline\n",
    "import timeit\n",
    "from scipy.optimize import curve_fit "
   ]
  },
  {
   "cell_type": "markdown",
   "metadata": {},
   "source": [
    "We need to define all the functions needed to run a small molecular dynamics simulation. The cell below gathers together all the required functions from the Atomistic Simulation notebook. Execute the cell to define the functions: "
   ]
  },
  {
   "cell_type": "code",
   "execution_count": 3,
   "metadata": {},
   "outputs": [],
   "source": [
    "# Calculate Lennard-Jones potential energy of a pair of atoms\n",
    "def lj(R,eps,r0,rcut,alpha):\n",
    "    if R<=rcut:\n",
    "        return eps*((r0/R)**12-2.0*(r0/R)**6)+alpha*eps\n",
    "    else:\n",
    "        return 0.0\n",
    "    \n",
    "# Calculate Lennard-Jones force between a pair of atoms\n",
    "def flj(R,eps,r0,rcut,alpha):\n",
    "    if R<=rcut:\n",
    "        return 12*eps/r0*((r0/R)**7-(r0/R)**13)\n",
    "    else:\n",
    "        return 0.0\n",
    "# Return potential energy of a system of atoms\n",
    "def pe(r):\n",
    "    pe = 0.0\n",
    "    for i in range(len(r)):\n",
    "        for j in range(i):\n",
    "            disp = np.abs(r[j,:]-r[i,:]) # Calculate displacement between atoms\n",
    "            for s in range(3): # Check if atoms are closer across periodic boundaries in each dimension\n",
    "                if disp[s] > 0.5*boxsize[s]*cell[s,s]:\n",
    "                    disp[s] = disp[s] - boxsize[s]*cell[s,s] # Adjust displacement for periodic boundary  \n",
    "            R = np.linalg.norm(disp)\n",
    "            pe = pe + lj(R,eps,r0,rcut,alpha)\n",
    "    return pe\n",
    "\n",
    "# Return kinetic energy of a system of atoms\n",
    "def ke(v,m):\n",
    "    mconv = 1.036e-4\n",
    "    ke = 0.0\n",
    "    for i in range(len(r)):\n",
    "        ke = ke + m[i]*(v[i,0]*v[i,0] + v[i,1]*v[i,1] + v[i,2]*v[i,2])\n",
    "    return 0.5*mconv*ke\n",
    "\n",
    "# Calculate acceleration of a system of atoms\n",
    "def calcaccln(a,r,m):\n",
    "    mconv = 1.036e-4\n",
    "    for i in range(len(r)):\n",
    "        a[i,:] = 0.0\n",
    "    for i in range(len(r)):\n",
    "        for j in range(i):\n",
    "            disp = (r[j,:]-r[i,:]) # Calculate displacement between atoms\n",
    "            for s in range(3): # Check if atoms are closer across periodic boundaries in each dimension\n",
    "                if disp[s] > 0.5*boxsize[s]*cell[s,s]:\n",
    "                    disp[s] = disp[s] - boxsize[s]*cell[s,s] # Adjust displacement for periodic boundary\n",
    "                elif disp[s] < -0.5*boxsize[s]*cell[s,s]:\n",
    "                    disp[s] = disp[s] + boxsize[s]*cell[s,s] # Adjust displacement for periodic boundary    \n",
    "            R = np.linalg.norm(disp)\n",
    "            a[i,:] = a[i,:] + flj(R,eps,r0,rcut,alpha)*disp[:]/R/m[i]/mconv\n",
    "            a[j,:] = a[j,:] - flj(R,eps,r0,rcut,alpha)*disp[:]/R/m[j]/mconv\n",
    "    return R\n",
    "\n",
    "# Evolve the positions, velocities and accelerations of a system of atoms by one timestep\n",
    "def vv(r,v,a,m,dt):\n",
    "    v += 0.5*a*dt\n",
    "    r += v*dt\n",
    "    calcaccln(a,r,m)\n",
    "    v += 0.5*a*dt\n",
    "    for s in range(3):\n",
    "        for i in range(len(r)):\n",
    "            if r[i,s] > boxsize[s]*cell[s,s]:\n",
    "                r[i,s] = r[i,s] - boxsize[s]*cell[s,s]\n",
    "    return\n",
    "\n",
    "# Run a simulation and record key data\n",
    "def run(r,v,a,m,dt,nsteps):\n",
    "    R0 = [r[0,:].tolist()]\n",
    "    R1 = [r[1,:].tolist()]\n",
    "    V0 = [v[0,:].tolist()]\n",
    "    V1 = [v[1,:].tolist()]\n",
    "    A0 = [a[0,:].tolist()]\n",
    "    A1 = [a[1,:].tolist()]\n",
    "    pelog = [pe(r)]\n",
    "    kelog = [ke(v,m)]\n",
    "    #print('Running simulation of ' + str(nsteps) + ' steps')\n",
    "    #print('Progress:')\n",
    "    for t in range(nsteps):\n",
    "        #if (t+1)%10 == 0:\n",
    "        #    print(str(t+1) + '.', end='')\n",
    "        vv(r,v,a,m,dt)\n",
    "        R0.append(r[0,:].tolist())\n",
    "        R1.append(r[1,:].tolist())\n",
    "        V0.append(v[0,:].tolist())\n",
    "        V1.append(v[1,:].tolist())\n",
    "        A0.append(a[0,:].tolist())\n",
    "        A1.append(a[1,:].tolist())\n",
    "        pelog.append(pe(r))\n",
    "        kelog.append(ke(v,m))\n",
    "        #if (t+1)%100 == 0:\n",
    "        #    print('')\n",
    "    #print()\n",
    "    return np.array(R0),np.array(R1),np.array(V0),np.array(V1),np.array(A0),np.array(A1),np.array(pelog),np.array(kelog)"
   ]
  },
  {
   "cell_type": "markdown",
   "metadata": {},
   "source": [
    "### A note on units \n",
    "I have set up the Lennard-Jones potential and the initial velocity so that times are specified in picosecond (ps), distances in angstrom and energies in electron-volts (eV). Please use this system of units in your answers."
   ]
  },
  {
   "cell_type": "markdown",
   "metadata": {},
   "source": [
    "## Part 1 - The importance of the choice of timestep (13 marks)\n",
    "Now we have everything set up. In this part of the coursework we will explore how the choice of timestep affects the behaviour and reliability of a simulation."
   ]
  },
  {
   "cell_type": "markdown",
   "metadata": {},
   "source": [
    "#### <span style=\"color: red\"> Task 1a:</span> Set up a simulation cell for a binary collision (3 marks)\n",
    "\n",
    "For guidance, look at the example of a binary collision at the end of the class notebook. Set up a simulation box of $8\\times 4\\times 4$ unit cells with a lattice parameter of 2.86 ang. You can use the motif for a bcc lattice, even though we are not actually going to populate the box with a full crystal. define an array `r[]` which places atoms at $(2.0,5.0,5.0)$ and $(7.0,5.0,5.0)$. Initialise the velocity and acceleration arrays with zeros and the mass array with all atoms having the Fe mass 55.8. Set up the parameters for the Lennard-Jones potential as in class."
   ]
  },
  {
   "cell_type": "code",
   "execution_count": 4,
   "metadata": {},
   "outputs": [],
   "source": [
    "L = 4\n",
    "boxsize = np.array([2*L,L,L])\n",
    "alatt = 2.86\n",
    "\n",
    "cell = np.array([\n",
    "                [alatt,0,0],\n",
    "                [0,alatt,0],\n",
    "                [0,0,alatt]\n",
    "            ])\n",
    "\n",
    "motif = np.array([\n",
    "                [0.0,0.0,0.0],\n",
    "                [0.5,0.5,0.5]\n",
    "            ])\n",
    "\n",
    "nMotif = len(motif)\n",
    "\n",
    "r = np.array([[2.0,5.0,5.0],[7.0,5.0,5.0]])\n",
    "nAtoms = len(r)\n",
    "\n",
    "v = np.zeros((nAtoms,3))\n",
    "a = np.zeros((nAtoms,3))\n",
    "\n",
    "mass = 55.8\n",
    "m = np.full(nAtoms,mass)\n",
    "\n",
    "R = np.linspace(0.5,3.0,500)\n",
    "eps = 0.7511\n",
    "r0 = 2.5614\n",
    "rcut = 4.2914\n",
    "alpha = 0.0884\n",
    "\n"
   ]
  },
  {
   "cell_type": "markdown",
   "metadata": {},
   "source": [
    "#### <span style=\"color: red\"> Task 1b:</span> Visualise the simulation cell (1 mark)\n",
    "Produce a simple plot of the positions of the atoms as points in the x-y plane. Include some indication of the boundaries of the simulation cell, either as lines in the plot or by adjusting the x and y ranges of the plot."
   ]
  },
  {
   "cell_type": "code",
   "execution_count": 48,
   "metadata": {},
   "outputs": [
    {
     "data": {
      "text/plain": [
       "Text(0, 0.5, 'y')"
      ]
     },
     "execution_count": 48,
     "metadata": {},
     "output_type": "execute_result"
    },
    {
     "data": {
      "image/png": "[encoded data removed]",
      "text/plain": [
       "<Figure size 432x288 with 1 Axes>"
      ]
     },
     "metadata": {
      "needs_background": "light"
     },
     "output_type": "display_data"
    }
   ],
   "source": [
    "\n",
    "plt.plot((2.0,7.0),(1.0,1.0),'bo')\n",
    "plt.xlim(0.0,8.0)\n",
    "plt.ylim(0.0,4.0)\n",
    "plt.xlabel(\"x\")\n",
    "plt.ylabel(\"y\")"
   ]
  },
  {
   "cell_type": "markdown",
   "metadata": {},
   "source": [
    "#### <span style=\"color: red\"> Task 1c:</span> Run a simulation (1 mark)\n",
    "Initialise the velocity of atom 0 in the simulation to the value of vpka that was initialised at the start of the notebook. Run a simulation with a timestep of 0.0001 for 2000 timesteps. "
   ]
  },
  {
   "cell_type": "code",
   "execution_count": 6,
   "metadata": {},
   "outputs": [],
   "source": [
    "dt = 0.0001\n",
    "v[0,:] = vpka\n",
    "R0,R1,V0,V1,A0,A1,pelog,kelog = run(r,v,a,m,dt,2000)"
   ]
  },
  {
   "cell_type": "markdown",
   "metadata": {},
   "source": [
    "#### <span style=\"color: red\"> Task 1d:</span> Plot the change in total energy as a function of time (2 marks)\n",
    "Produce a plot of the change in total energy (i.e. the difference between the total energy at each timestep and the energy at the start of the simulation) against the number of timesteps into the simulation. You should see two step-like features and an oscillating feature. In a markdown cell, explain what gives rise to each of these features [Hint: it might help to think about what this plot would look like if the simulation was perfect]."
   ]
  },
  {
   "cell_type": "code",
   "execution_count": 7,
   "metadata": {},
   "outputs": [
    {
     "data": {
      "text/plain": [
       "[<matplotlib.lines.Line2D at 0x1b5512bdcd0>]"
      ]
     },
     "execution_count": 7,
     "metadata": {},
     "output_type": "execute_result"
    },
    {
     "data": {
      "image/png": "[encoded data removed]",
      "text/plain": [
       "<Figure size 432x288 with 1 Axes>"
      ]
     },
     "metadata": {
      "needs_background": "light"
     },
     "output_type": "display_data"
    }
   ],
   "source": [
    "plt.plot((kelog[:]+ pelog[:])-(kelog[0]+pelog[0]), 'purple')"
   ]
  },
  {
   "cell_type": "markdown",
   "metadata": {},
   "source": [
    "Explanation of graph: In an ideal simulation, the Lennard-Jones potential would be infinite but in this simulation we implemented a cut-off radius, whereby the Lenneard-jones potential outside of the cut-off radius is zero. The first step feature is caused by the projectile atom entering the cut-off region and experiencing an immediate attractive force, once close enough to target atom the dominant force is repulsive until the collision represented by the highest peak. Then there is another period of repulsion then attraction, this peridocity forms the oscillating feature. The next step function is the target atom moving away from thr cut-off radius."
   ]
  },
  {
   "cell_type": "markdown",
   "metadata": {},
   "source": [
    "#### <span style=\"color: red\"> Task 1e:</span> Explore the effect of the timestep on energy conservation ( 2 marks)\n",
    "Run simulations of collisions just like the one above for a range of values of the timestep `dt`. Use the following values for the timestep $[0.00001, 0.0001, 0.001, 0.01]$. For each choice of timestep you will need a different number of steps in your simulation to ensure that the overall duration of the simulation remains the same. The corresponding set of numbers of steps will be $[20000,2000,200,20]$.\n",
    "\n",
    "For each simulation, record the change in total energy between the first and last step in a list. This is a measure of the lack of energy conservation in the simulation.\n",
    "\n",
    "[Hint: By placing the values for the timestep and the number of steps in a list, you can define a loop and for each simulation append the change in total energy to a list of energy changes. This is the most efficient way to achieve the task and you will  gain full marks only if you use this approach. An alternative is to explore the timesteps manually and record the resulting energy differences in a list by hand, but this will not gain you full marks. The class notebook included an example of using a python loop to execute a series of simulations.]\n",
    "\n",
    "[Hint: Remember that for each simulation you will need to reinitialise the arrays of positions, velocities and acceleration, otherwise you will start with the values from the end of the previous simulation!] "
   ]
  },
  {
   "cell_type": "code",
   "execution_count": 9,
   "metadata": {},
   "outputs": [],
   "source": [
    "timesteps = [0.00001,0.0001,0.001,0.01]\n",
    "steps = [20000,2000,200,20]\n",
    "\n",
    "TE = []\n",
    "\n",
    "for i in range(len(timesteps)):\n",
    "    r = np.array([[2.0,5.0,5.0],[7.0,5.0,5.0]])\n",
    "    v = np.zeros((nAtoms,3))\n",
    "    a = np.zeros((nAtoms,3))\n",
    "    v[0,:] = vpka\n",
    "    \n",
    "    dt = timesteps[i]\n",
    "    R0,R1,V0,V1,A0,A1,pelog,kelog = run(r,v,a,m,dt,steps[i])\n",
    "    TE.append((kelog[-1]+pelog[-1]) - (kelog[0]+pelog[0]))"
   ]
  },
  {
   "cell_type": "markdown",
   "metadata": {},
   "source": [
    "#### <span style=\"color: red\"> Task 1f:</span> Plot a graph of energy change against the value of the timestep `dt` (2 marks)\n",
    "Plot the *absolute* value of the energy change against the value of timestep `dt` using a log-log scale. Remember that the total energy should be conserved, so any change represents an error in our simulation.\n",
    "\n",
    "In a markdown cell, comment on the resulting graph. How would you explain the resulting behaviour? At what value of the timestep does the change in total energy become intolerably large?"
   ]
  },
  {
   "cell_type": "code",
   "execution_count": 10,
   "metadata": {},
   "outputs": [
    {
     "data": {
      "text/plain": [
       "Text(0, 0.5, 'log (total energy)')"
      ]
     },
     "execution_count": 10,
     "metadata": {},
     "output_type": "execute_result"
    },
    {
     "data": {
      "image/png": "[encoded data removed]",
      "text/plain": [
       "<Figure size 432x288 with 1 Axes>"
      ]
     },
     "metadata": {
      "needs_background": "light"
     },
     "output_type": "display_data"
    }
   ],
   "source": [
    "TElog = np.log10(abs(np.array(TE)))\n",
    "dtlog = np.log10(timesteps)\n",
    "\n",
    "plt.plot(dtlog,TElog)\n",
    "plt.xlabel(\"log (dt)\")\n",
    "plt.ylabel(\"log (total energy)\")"
   ]
  },
  {
   "cell_type": "markdown",
   "metadata": {},
   "source": [
    "The energy becomes intolerably large at dt = 0.001"
   ]
  },
  {
   "cell_type": "markdown",
   "metadata": {},
   "source": [
    "#### <span style=\"color: red\"> Task 1g:</span> Plot a graph of the distance moved by the projectile atom (atom 0) in the first timestep of the simulation (2 marks)\n",
    "Calculate the distance moved by the projectile atom in the first timestep of the simulation for each value of the timestep `dt`. Plot this distance against the timestep `dt` on a log-log plot (Hint: you do not need any simulation results in order to complete this task). In a markdown cell, comment on the value that you obtain for the displacement per timestep for the longest timestep in light of your plot of energy change above. "
   ]
  },
  {
   "cell_type": "code",
   "execution_count": 110,
   "metadata": {},
   "outputs": [
    {
     "name": "stdout",
     "output_type": "stream",
     "text": [
      "50.169130611691294\n"
     ]
    },
    {
     "data": {
      "image/png": "[encoded data removed]",
      "text/plain": [
       "<Figure size 432x288 with 1 Axes>"
      ]
     },
     "metadata": {
      "needs_background": "light"
     },
     "output_type": "display_data"
    }
   ],
   "source": [
    "distance = []\n",
    "\n",
    "for i in range(len(timesteps)):\n",
    "    distance.append(vpka[0]*timesteps[i])\n",
    "\n",
    "dlog = np.log10(np.array(distance))\n",
    "plt.plot(dtlog,dlog)\n",
    "plt.xlabel(\"log (dt)\")\n",
    "plt.ylabel(\"log (distance)\")\n",
    "\n",
    "print(10**dlog[-1]/0.01)"
   ]
  },
  {
   "cell_type": "markdown",
   "metadata": {},
   "source": [
    "The value is 50.169 at dt = 0.01 which is constant for each timestep. This confirms that there is in error in the total energy simulations as velocity should should be constant and therefore total energy should be constant."
   ]
  },
  {
   "cell_type": "markdown",
   "metadata": {},
   "source": [
    "## Part 2 - Energy transfer (8 marks)\n",
    "We will now investigate the amount of energy tranferred from the projectile atom (atom 0) to the target atom (atom 1) during the collision as a function of the *impact parameter* of the collision. The impact parameter is defined as the perpendicular distance of the target atom from a straight line projection of the initial trajectory of the projectile atom as shown below\n",
    "\n",
    "![](Figures/ImpactParameter.png \"\")\n",
    "\n",
    "\n",
    "As well as simulating the collision process we will consider it in an analytical treatment and see how well a simple theory matches our results."
   ]
  },
  {
   "cell_type": "markdown",
   "metadata": {},
   "source": [
    "#### <span style=\"color: red\"> Task 2a:</span> Define a function to return the value of the kinetic energy for a single atom (1 mark)\n",
    "In the code cell below, define a new function called `keatom()` which takes two arguments, the first being an array (or list) containing the three components of an atom's velocity and the second being the mass of the atom. The function should return the kinetic energy of the atom (in eV).\n",
    "\n",
    "[Hint: The function `ke()` defined at the start of the notebook will provide a useful guide for how to complete this task.]"
   ]
  },
  {
   "cell_type": "code",
   "execution_count": 12,
   "metadata": {},
   "outputs": [],
   "source": [
    "def keatom(v,m):\n",
    "    mconv = 1.036e-4\n",
    "    m = m[0]\n",
    "    ke = 0.0\n",
    "    for i in range(len(v)):\n",
    "        ke = ke + m*(v[i]*v[i])\n",
    "    return 0.5*mconv*ke"
   ]
  },
  {
   "cell_type": "markdown",
   "metadata": {},
   "source": [
    "#### <span style=\"color: red\"> Task 2b:</span> Run simulations with a variety of impact parameters (2 marks)\n",
    "Run a set of six simulations with impact parameters `b = [0.0,0.1,0.2,0.5,1.0,2.0]` and for each simulation record the fraction of the initial projectile kinetic energy transferred to the target atom. For each simulation, use the initial velocity `vpka` that was set at the start of the notebook. Once again, to gain full marks you must use a loop to run the multiple simulations. A timestep of 1e-4 should be suitable.\n",
    "\n",
    "[Hint: To give the correct impact parameter, simply set the starting position of the projectile atom for each value of `b` to `[2.0,5.0+b,5.0]`.\n",
    "\n",
    "[Hint 2: Remember that the kinetic energy of the target atom is zero at the start of the simulation. The potential energy will be zero at the start and end because the atoms are out of range of one another. This makes it easy to calculate the kinetic energy gained by the target.] "
   ]
  },
  {
   "cell_type": "code",
   "execution_count": 14,
   "metadata": {},
   "outputs": [],
   "source": [
    "b = [0.0,0.1,0.2,0.5,1.0,2.0]\n",
    "frac = []\n",
    "for i in range(len(b)):\n",
    "    r = np.array([[2.0,5.0 +b[i],5.0],[7.0,5.0,5.0]])\n",
    "    v = np.zeros((nAtoms,3))\n",
    "    a = np.zeros((nAtoms,3))\n",
    "\n",
    "    v[0,:] = vpka\n",
    "    \n",
    "    dt = 0.0001\n",
    "    R0,R1,V0,V1,A0,A1,pelog,kelog = run(r,v,a,m,dt,2000)\n",
    "    frac.append(keatom(V1[-1],m)/keatom(vpka,m))"
   ]
  },
  {
   "cell_type": "markdown",
   "metadata": {},
   "source": [
    "#### <span style=\"color: red\"> Task 2c:</span> Plot the fraction of kinetic energy trasferred as a function of impact parameter (1 mark)\n",
    "Plot the results of the above computer experiment on a plot with linear scales."
   ]
  },
  {
   "cell_type": "code",
   "execution_count": 36,
   "metadata": {},
   "outputs": [
    {
     "data": {
      "text/plain": [
       "Text(0, 0.5, 'Fraction of Kinetic energy transferred')"
      ]
     },
     "execution_count": 36,
     "metadata": {},
     "output_type": "execute_result"
    },
    {
     "data": {
      "image/png": "[encoded data removed]",
      "text/plain": [
       "<Figure size 432x288 with 1 Axes>"
      ]
     },
     "metadata": {
      "needs_background": "light"
     },
     "output_type": "display_data"
    }
   ],
   "source": [
    "plt.plot(b,frac)\n",
    "plt.xlabel(\"Impact parameter\")\n",
    "plt.ylabel(\"Fraction of Kinetic energy transferred\")"
   ]
  },
  {
   "cell_type": "markdown",
   "metadata": {},
   "source": [
    "### A theoretical treatment of the collision\n",
    "The above plot should show a well behaved trend. Can we explain the form of this trend using some simple theory?\n",
    "\n",
    "First, let's make some simplifications in our analysis of the collision process. Let's assume that the interaction between the atoms is only significant when they are within a certain range that we denote $r^{\\ast}$. This means that the forces between the atoms will only act to transfer energy when the atoms are within a distance of $r^{\\ast}$ or less. We will also assume that we can approximate the energy transfer in the true collision process by assuming that it is the same as would have occurred if the particles followed their unperturbed paths (i.e. the target atom remains stationary and the projectile moves in a straight line. The figure below illustrates this approximate scenario for a given impact parameter.\n",
    "\n",
    "![](Figures/CollisionTime.png \"Logo Title Text 1\")\n",
    "\n",
    "\n",
    "You may recall that the change in momentum of a particle (also called an *impulse*) $\\Delta p$ of a particle experiencing a force $F$ for a time $t$ is given by $\\Delta p = F t$ (you can see this if you remember Newton's second law, that a force is a rate of change of velocity multipled by mass). Now, since the target particle is initially at rest, the kinetic energy transfer is simply the value of its final kinetic energy. If it receives momentum $\\Delta p$ then this kinetic energy change is:\n",
    "\n",
    "$$\n",
    "\\Delta E_{\\mathrm{kin}} = \\frac{\\Delta p^2}{2m}.\n",
    "$$\n",
    "\n",
    "Now, from the figure, we can see that the length of the projectile trajectory within range $r^{\\ast}$ is given by $x = 2\\,\\sqrt{{r^{\\ast}}^2-b^2}$ which, for a projectile speed $v$ implies a time over which a significant force acts of\n",
    "\n",
    "$$\n",
    "t = x/v = 2(\\sqrt{{r^{\\ast}}^2-b^2})/v.\n",
    "$$\n",
    "\n",
    "Inserting this into our expression for the kinetic energy transfer and gathering together the various factors into a constant $\\beta$ gives\n",
    "\n",
    "$$\n",
    "\\Delta E_{\\mathrm{kin}} = \\frac{\\Delta p^2}{2m} = \\frac{(F\\,t)^2}{2m} = \\frac{F^2}{2m v^2}4({r^{\\ast}}^2-b^2) = \\beta \\,({r^{\\ast}}^2-b^2).\n",
    "$$\n",
    "\n",
    "Now, we know from basic physics that in a perfectly elastic head-on collision between two particles of equal mass, the kinetic energy transfer is complete. This is to say that the value of $\\Delta E_{\\mathrm{kin}}$ must be 1.0 when $b=0$, which means we must have $\\beta { r^{\\ast}}^2=1$,  and so our final theoretical expression reads:\n",
    "\n",
    "$$\n",
    "\\Delta E_{\\mathrm{kin}} = 1 -\\beta b^2.\n",
    "$$\n",
    "\n",
    "A more sophisticated treatment would allow us to calculate the value of the parameter $\\beta$ directly, but this would involve an integral over the Lennard-Jones potential and would in any case give the wrong answer because some of the assumptions that we have made in our analysis are a little too agressive for the low collision velocities that we are simulating. However, what we can do is fit the value of $\\beta$ to our simulation data to verify the *form* of the model that we have derived."
   ]
  },
  {
   "cell_type": "markdown",
   "metadata": {},
   "source": [
    "#### <span style=\"color: red\"> Task 2d:</span> Define a python function for the kinetic energy tranfer as a function of impact parameter and fit the value of the $\\beta$ parameter (2 marks)\n",
    "Define a python function `demodel()` that takes a value of the impact parameter `b` and a value for the constant `beta` and returns a value for the kinetic energy transfer according to the equation that we derived above. Use what you learned about curve fitting earlier in the module to fit the value of the parameter `beta` to the output from your simulations."
   ]
  },
  {
   "cell_type": "code",
   "execution_count": 38,
   "metadata": {},
   "outputs": [],
   "source": [
    "def demodel(b,beta):\n",
    "    return 1 - (beta*(b*b))\n",
    "\n",
    "pars,cov=curve_fit(demodel,b,frac) \n",
    "\n",
    "modelfit = []\n",
    "\n",
    "for n in range(len(b)):\n",
    "    modelfit.append(1-(beta*(b[n]*b[n])))"
   ]
  },
  {
   "cell_type": "markdown",
   "metadata": {},
   "source": [
    "#### <span style=\"color: red\"> Task 2e:</span> Plot the fitted model against the simulation data (1 mark)\n",
    "Produce a plot of the simulation data and the fitted model on the same axes and comment on the fit."
   ]
  },
  {
   "cell_type": "code",
   "execution_count": 39,
   "metadata": {},
   "outputs": [
    {
     "data": {
      "text/plain": [
       "<matplotlib.legend.Legend at 0x1b5517e5f40>"
      ]
     },
     "execution_count": 39,
     "metadata": {},
     "output_type": "execute_result"
    },
    {
     "data": {
      "image/png": "[encoded data removed]",
      "text/plain": [
       "<Figure size 432x288 with 1 Axes>"
      ]
     },
     "metadata": {
      "needs_background": "light"
     },
     "output_type": "display_data"
    }
   ],
   "source": [
    "plt.plot(b,frac,label = 'simulation data')\n",
    "plt.plot(b,modelfit,label = 'fitted data')\n",
    "plt.legend()"
   ]
  },
  {
   "cell_type": "markdown",
   "metadata": {},
   "source": [
    "#### <span style=\"color: red\"> Task 2f:</span> Calculate the value of $r^{\\ast}$ (1 mark)\n",
    "Calculate the value of $r^{\\ast}$ implied by your simulation data. Comment on the value you obtain with respect to the shape of the Lennard-Jones potential with the parameterisation for Fe. [Hint: Think about the shape of the Lennard-Jones curve and how it is made up of a repulsive and an attractive contribution.]"
   ]
  },
  {
   "cell_type": "code",
   "execution_count": 42,
   "metadata": {},
   "outputs": [
    {
     "name": "stdout",
     "output_type": "stream",
     "text": [
      "2.218945407802983\n"
     ]
    }
   ],
   "source": [
    "rcrit = np.sqrt(1/beta)\n",
    "print(rcrit)"
   ]
  },
  {
   "cell_type": "markdown",
   "metadata": {},
   "source": [
    "Answer: At low values of r, the Lennard-Jones curve has a steep negative that becomes more positive as R increases. The dominant contribution at this point is repulsive. At r-crit a minimum point is reached, at this point attractive and repulsive terms are equal. At values of r higher than the critical value the dominant contribution is attractive."
   ]
  },
  {
   "cell_type": "markdown",
   "metadata": {},
   "source": [
    "## Part 3 -  (4 marks)\n",
    "Read the following instructions very carefully. To earn all the marks for this part you must do everything asked for."
   ]
  },
  {
   "cell_type": "markdown",
   "metadata": {},
   "source": [
    "#### <span style=\"color: red\"> Task 3:</span> (4 marks)\n",
    "Run a set of simulations using values for the impact parameter of `b=[0.05,0.1,0.2,0.5,1.0,2.0,3.0]`. Note that this is a slightly different set to before. Produce a *single* plot showing the trajectories followed by the projectile in the x-y plane for all of the simulations. Make sure your plot makes it possible to distinguish which trajectory corresponds to which value of the impact parameter. Next produce a plot which shows how the angle of deflection of the final projectile path varies as a function of impact parameter across your set of simulations. Finally, in a markdown cell, explain the behaviour of the simulation for `b=3.0`."
   ]
  },
  {
   "cell_type": "code",
   "execution_count": 92,
   "metadata": {},
   "outputs": [
    {
     "data": {
      "text/plain": [
       "Text(0, 0.5, 'y')"
      ]
     },
     "execution_count": 92,
     "metadata": {},
     "output_type": "execute_result"
    },
    {
     "data": {
      "image/png": "[encoded data removed]",
      "text/plain": [
       "<Figure size 640x480 with 1 Axes>"
      ]
     },
     "metadata": {
      "needs_background": "light"
     },
     "output_type": "display_data"
    }
   ],
   "source": [
    "colour = ['b','r','g','c','k','m','y']\n",
    "b = [0.05,0.1,0.2,0.5,1.0,2.0,3.0]\n",
    "plt.figure(figsize=(8, 6), dpi=80)\n",
    "\n",
    "for i in range(len(b)):\n",
    "    r = np.array([[2.0,5.0 +b[i],5.0],[7.0,5.0,5.0]])\n",
    "    v = np.zeros((nAtoms,3))\n",
    "    a = np.zeros((nAtoms,3))\n",
    "\n",
    "    v[0,:] = vpka\n",
    "    \n",
    "    dt = 0.0001\n",
    "    R0,R1,V0,V1,A0,A1,pelog,kelog = run(r,v,a,m,dt,2000)\n",
    "    plt.plot(R0[:,0],R0[:,1],colour[i], label = f\"b = {b[i]}\")\n",
    "    plt.plot(R1[:,0],R1[:,1],colour[i])\n",
    "    plt.plot(R0[-1,0],R0[-1,1],colour[i]+'o')\n",
    "    plt.plot(R1[-1,0],R1[-1,1],colour[i]+'o')\n",
    "    \n",
    "plt.legend()\n",
    "plt.xlabel('x')\n",
    "plt.ylabel('y')"
   ]
  },
  {
   "cell_type": "code",
   "execution_count": 104,
   "metadata": {},
   "outputs": [
    {
     "data": {
      "text/plain": [
       "[<matplotlib.lines.Line2D at 0x1b552580280>]"
      ]
     },
     "execution_count": 104,
     "metadata": {},
     "output_type": "execute_result"
    },
    {
     "data": {
      "image/png": "[encoded data removed]",
      "text/plain": [
       "<Figure size 432x288 with 1 Axes>"
      ]
     },
     "metadata": {
      "needs_background": "light"
     },
     "output_type": "display_data"
    }
   ],
   "source": [
    "angles = []\n",
    "for i in range(len(b)):\n",
    "    r = np.array([[2.0,5.0 +b[i],5.0],[7.0,5.0,5.0]])\n",
    "    v = np.zeros((nAtoms,3))\n",
    "    a = np.zeros((nAtoms,3))\n",
    "\n",
    "    v[0,:] = vpka\n",
    "    \n",
    "    dt = 0.0001\n",
    "    R0,R1,V0,V1,A0,A1,pelog,kelog = run(r,v,a,m,dt,2000)\n",
    "    \n",
    "    vectors.append((R1[-1,0:2]))\n",
    "    \n",
    "    unit_vector_1 = [2.0,5.0+b[i]] / np.linalg.norm([2.0,5.0+b[i]])\n",
    "    unit_vector_2 = R1[-1,0:2] / np.linalg.norm(R1[-1,0:2])\n",
    "    dot_product = np.dot(unit_vector_1, unit_vector_2)\n",
    "    angles.append(np.arccos(dot_product)*180/np.pi)\n",
    "    \n",
    "plt.plot(b,angles)"
   ]
  },
  {
   "cell_type": "markdown",
   "metadata": {},
   "source": [
    "The distance between the two atoms is greater than r-crit meaning that an attractive force is the dominant contribution of the Lennard-Jones potential. This results in the behaviour shown above"
   ]
  },
  {
   "cell_type": "markdown",
   "metadata": {},
   "source": [
    "### For use by markers only:\n",
    "\n",
    "#### Total mark: $\\hspace{1cm}$/25\n",
    "\n",
    "#### As a percentage:"
   ]
  },
  {
   "cell_type": "code",
   "execution_count": null,
   "metadata": {},
   "outputs": [],
   "source": []
  }
 ],
 "metadata": {
  "hide_input": false,
  "kernelspec": {
   "display_name": "Python 3 (ipykernel)",
   "language": "python",
   "name": "python3"
  },
  "language_info": {
   "codemirror_mode": {
    "name": "ipython",
    "version": 3
   },
   "file_extension": ".py",
   "mimetype": "text/x-python",
   "name": "python",
   "nbconvert_exporter": "python",
   "pygments_lexer": "ipython3",
   "version": "3.9.7"
  },
  "toc": {
   "colors": {
    "hover_highlight": "#DAA520",
    "running_highlight": "#FF0000",
    "selected_highlight": "#FFD700"
   },
   "moveMenuLeft": true,
   "nav_menu": {
    "height": "512px",
    "width": "252px"
   },
   "navigate_menu": true,
   "number_sections": true,
   "sideBar": true,
   "threshold": 4,
   "toc_cell": false,
   "toc_section_display": "block",
   "toc_window_display": false
  }
 },
 "nbformat": 4,
 "nbformat_minor": 2
}
