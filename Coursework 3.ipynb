{
 "cells": [
  {
   "cell_type": "markdown",
   "metadata": {},
   "source": [
    "# Coursework 3 - Machine Learning"
   ]
  },
  {
   "cell_type": "markdown",
   "metadata": {},
   "source": [
    "Please enter your name and student number into the Markdown cell below."
   ]
  },
  {
   "cell_type": "markdown",
   "metadata": {},
   "source": [
    "#### Name: Khalfan Khalfan\n",
    "#### Student Number: 10178477"
   ]
  },
  {
   "cell_type": "markdown",
   "metadata": {},
   "source": [
    "In this coursework we will explore some of the ideas from the session on Machine Learning. You will work with some randomly generated data and try out some approaches to supervised learning."
   ]
  },
  {
   "cell_type": "markdown",
   "metadata": {},
   "source": [
    "## Setup"
   ]
  },
  {
   "cell_type": "markdown",
   "metadata": {},
   "source": [
    "Run the below cell to import some key modules."
   ]
  },
  {
   "cell_type": "code",
   "execution_count": 5,
   "metadata": {},
   "outputs": [],
   "source": [
    "# Import some modules that we will require\n",
    "import numpy as np  \n",
    "import scipy as sp\n",
    "import sklearn # This is a module of machine learning tools\n",
    "\n",
    "import matplotlib.pyplot as plt\n",
    "%matplotlib inline"
   ]
  },
  {
   "cell_type": "markdown",
   "metadata": {},
   "source": [
    "Please enter your Student ID in the cell below. This ID will be used throughout the coursework so please do not create any other variables named `ID`."
   ]
  },
  {
   "cell_type": "code",
   "execution_count": 6,
   "metadata": {},
   "outputs": [],
   "source": [
    "ID = 10187477"
   ]
  },
  {
   "cell_type": "markdown",
   "metadata": {},
   "source": [
    "Now run the cell below. This will generate a set of data for you to use for the rest of this session. Each of you will obtain a different set of data."
   ]
  },
  {
   "cell_type": "markdown",
   "metadata": {},
   "source": [
    "## Part 1 - Exploring the SVM"
   ]
  },
  {
   "cell_type": "code",
   "execution_count": 7,
   "metadata": {},
   "outputs": [],
   "source": [
    "np.random.seed(ID)\n",
    "clustercentres = np.array([[0.5,0.65],[0.35,0.4]])\n",
    "centreshifts = np.random.random((2,2))*0.02\n",
    "clustercentres = clustercentres + centreshifts\n",
    "\n",
    "noisescale = 0.25\n",
    "nclasses = 2\n",
    "npoints = 100\n",
    "data = np.zeros((nclasses*npoints,2), dtype=float)\n",
    "classes = np.zeros(nclasses*npoints, dtype=int)\n",
    "for i in range(nclasses):\n",
    "    for j in range(npoints):\n",
    "        randomshift = np.random.random((2,))\n",
    "        data[i*npoints+j,:] = clustercentres[i,:] + noisescale*randomshift[0]*np.array([np.sin(randomshift[1]*2*np.pi),np.cos(randomshift[1]*2*np.pi)])\n",
    "        classes[i*npoints+j] = i"
   ]
  },
  {
   "cell_type": "markdown",
   "metadata": {},
   "source": [
    "The data produced by the above cell consists of two clusters representing two classes of observations. The points in each cluster include some random noise."
   ]
  },
  {
   "cell_type": "markdown",
   "metadata": {},
   "source": [
    "#### <span style=\"color: red\"> Task 1a:</span> Produce a scatter plot of your data with a different colour for each class (2 marks)\n",
    "Also mark the centres of the clusters with a third symbol."
   ]
  },
  {
   "cell_type": "code",
   "execution_count": 19,
   "metadata": {},
   "outputs": [
    {
     "data": {
      "text/plain": [
       "Text(0, 0.5, 'Property B')"
      ]
     },
     "execution_count": 19,
     "metadata": {},
     "output_type": "execute_result"
    },
    {
     "data": {
      "image/png": "[encoded data removed]",
      "text/plain": [
       "<Figure size 432x288 with 1 Axes>"
      ]
     },
     "metadata": {
      "needs_background": "light"
     },
     "output_type": "display_data"
    }
   ],
   "source": [
    "color = ['r','g']\n",
    "\n",
    "for s in range(2):\n",
    "    plt.scatter(data[(classes == s),0],data[(classes == s),1],marker='o', color=color[s])\n",
    "    plt.scatter(clustercentres[s,0],clustercentres[s,1],marker='^', color='k',s=200)\n",
    "\n",
    "plt.xlabel('Property A')\n",
    "plt.ylabel('Property B')\n",
    "    "
   ]
  },
  {
   "cell_type": "markdown",
   "metadata": {},
   "source": [
    "#### <span style=\"color: red\"> Task 1b:</span> Split the data into a training set and a test set (2 marks)\n",
    "[Hint:You will need to import something from sklearn to get this to work. See the class notebook for an example.]"
   ]
  },
  {
   "cell_type": "code",
   "execution_count": 22,
   "metadata": {},
   "outputs": [],
   "source": [
    "from sklearn import model_selection\n",
    "data_train, data_test, classes_train, classes_test = sklearn.model_selection.train_test_split(data, classes, stratify=classes, random_state=42)"
   ]
  },
  {
   "cell_type": "markdown",
   "metadata": {},
   "source": [
    "#### <span style=\"color: red\"> Task 1c:</span> Train a support vector machine (svm) classifier using the training data (3 marks)\n",
    "Use values of `kernel='rbf'`, `C=100.0` and `gamma=1.0`. [Hint: you will need to import something from sklearn.]"
   ]
  },
  {
   "cell_type": "code",
   "execution_count": 23,
   "metadata": {},
   "outputs": [],
   "source": [
    "from sklearn.svm import SVC\n",
    "svm = SVC(kernel='rbf', C=100, gamma=1.0).fit(data_train,classes_train)"
   ]
  },
  {
   "cell_type": "markdown",
   "metadata": {},
   "source": [
    "#### <span style=\"color: red\"> Task 1e:</span> Calculate the fraction of *training* points correctly classified by your SVM (2 marks)\n",
    "Your cell should print the result of this calculation. [Hint: take a look at the class notebook to see how to use the SVM to predict classes.]"
   ]
  },
  {
   "cell_type": "code",
   "execution_count": 52,
   "metadata": {},
   "outputs": [
    {
     "name": "stdout",
     "output_type": "stream",
     "text": [
      "1.0\n"
     ]
    }
   ],
   "source": [
    "classes_predicted = svm.predict(data_train)\n",
    "frac = np.sum(classes_train==classes_predicted)/np.size(classes_train)\n",
    "print(frac)"
   ]
  },
  {
   "cell_type": "markdown",
   "metadata": {},
   "source": [
    "#### <span style=\"color: red\"> Task 1f:</span> Calculate the fraction of *test* points correctly classified by your SVM (1 mark)\n",
    "Your cell should print the result of this calculation."
   ]
  },
  {
   "cell_type": "code",
   "execution_count": 41,
   "metadata": {},
   "outputs": [
    {
     "name": "stdout",
     "output_type": "stream",
     "text": [
      "0.92\n"
     ]
    }
   ],
   "source": [
    "classes_predicted = svm.predict(data_test)\n",
    "frac = np.sum(classes_test==classes_predicted)/np.size(classes_test)\n",
    "print(frac)"
   ]
  },
  {
   "cell_type": "markdown",
   "metadata": {},
   "source": [
    "## Part 2 - Optimsing the SVM"
   ]
  },
  {
   "cell_type": "markdown",
   "metadata": {},
   "source": [
    "#### <span style=\"color: red\"> Task 2a:</span> Obtain measures of performance for different values of `gamma` (3 marks)\n",
    "Use a python loop to vary the value of gamma according to the following list `gamma = [1e0, 1e1, 1e2, 1e3, 1e4, 1e5 ]`. For each value of `gamma`, record the fraction of training points classified correctly and the fraction of test points classified correctly. [Hint: The class notebook on atomistic simulation contained an example of using a loop to explore a range of parmameters.]"
   ]
  },
  {
   "cell_type": "code",
   "execution_count": 54,
   "metadata": {},
   "outputs": [
    {
     "name": "stdout",
     "output_type": "stream",
     "text": [
      "[0.9333333333333333, 0.94, 0.9733333333333334, 1.0, 1.0, 1.0]\n",
      "[0.92, 0.92, 0.9, 0.86, 0.78, 0.6]\n"
     ]
    }
   ],
   "source": [
    "gamma = [1e0, 1e1, 1e2, 1e3, 1e4, 1e5 ]\n",
    "train_fractions = [] \n",
    "test_fractions = []\n",
    "\n",
    "for i in gamma:\n",
    "    svm = SVC(kernel='rbf', C=100, gamma=i).fit(data_train,classes_train)\n",
    "    train_classes_predicted = svm.predict(data_train)\n",
    "    test_classes_predicted = svm.predict(data_test)\n",
    "    \n",
    "    train_frac = np.sum(classes_train==train_classes_predicted)/np.size(classes_train)\n",
    "    test_frac =  np.sum(classes_test==test_classes_predicted)/np.size(classes_test)\n",
    "    \n",
    "    train_fractions.append(train_frac)\n",
    "    test_fractions.append(test_frac)\n",
    "    \n",
    "print(train_fractions)\n",
    "print(test_fractions)\n",
    "\n",
    "    \n",
    "    "
   ]
  },
  {
   "cell_type": "markdown",
   "metadata": {},
   "source": [
    "#### <span style=\"color: red\"> Task 2b:</span> Produce a plot of the performance of the svm on the training and test data as a function of the value of  `gamma` (1 mark)\n",
    "Think carefully about the best scales to use for your plot."
   ]
  },
  {
   "cell_type": "code",
   "execution_count": 59,
   "metadata": {},
   "outputs": [
    {
     "data": {
      "text/plain": [
       "<matplotlib.legend.Legend at 0x263efcd2880>"
      ]
     },
     "execution_count": 59,
     "metadata": {},
     "output_type": "execute_result"
    },
    {
     "data": {
      "image/png": "[encoded data removed]",
      "text/plain": [
       "<Figure size 432x288 with 1 Axes>"
      ]
     },
     "metadata": {
      "needs_background": "light"
     },
     "output_type": "display_data"
    }
   ],
   "source": [
    "plt.plot(np.log(gamma),train_fractions,label='training data')\n",
    "plt.plot(np.log(gamma),test_fractions,label='test data')\n",
    "plt.xlabel('Log(gamma)')\n",
    "plt.ylabel('Fraction of points classified correctly')\n",
    "plt.legend()"
   ]
  },
  {
   "cell_type": "markdown",
   "metadata": {},
   "source": [
    "#### <span style=\"color: red\"> Task 2c:</span> Which value of `gamma` is optimal (2 marks)\n",
    "In a markdown cell, state which of the above values of `gamma` you would choose and explain the reason for your choice."
   ]
  },
  {
   "cell_type": "markdown",
   "metadata": {},
   "source": [
    "I would choose the value gamma = 10. This is because the highest fraction of points classified correctly for the **test data** is 0.92, there are two values of gamma that have this same fraction for the **test data** which are gamma = 1 and gamma = 2. Out of the two gamma = 10 has a higher fraction of points classified correctly for the **training data**.\n",
    "\n",
    "After gamma = 10 the fit becomes better for the **training data** but the svm becomes increasingly worse at predicting the class of the **test data** points, this is an indication of overfitting."
   ]
  },
  {
   "cell_type": "markdown",
   "metadata": {},
   "source": [
    "#### <span style=\"color: red\"> Task 2d:</span> Fit your optimal svm and plot the decision boundary (2 marks)\n",
    "Refit an svm to your training data using your chosen value for `gamma`, then produce a plot which includes a scatter plot of the test data (coloured according to class) and a line indicating the decision boundary for the svm. [Hint: see the class notebook for the code required to plot the decision boundary.]"
   ]
  },
  {
   "cell_type": "code",
   "execution_count": 77,
   "metadata": {},
   "outputs": [
    {
     "data": {
      "text/plain": [
       "<matplotlib.contour.QuadContourSet at 0x263f13764f0>"
      ]
     },
     "execution_count": 77,
     "metadata": {},
     "output_type": "execute_result"
    },
    {
     "data": {
      "image/png": "[encoded data removed]",
      "text/plain": [
       "<Figure size 432x288 with 1 Axes>"
      ]
     },
     "metadata": {
      "needs_background": "light"
     },
     "output_type": "display_data"
    }
   ],
   "source": [
    "svm = SVC(kernel='rbf', C=100, gamma=1.0).fit(data_train,classes_train)\n",
    "classes_predicted = svm.predict(data_test)\n",
    "\n",
    "X1, X2 = np.meshgrid(np.linspace(0.1, 0.8, 100), np.linspace(0.1, 0.95, 100))\n",
    "X_grid = np.c_[X1.ravel(), X2.ravel()]\n",
    "decision_values = svm.decision_function(X_grid)\n",
    "fill_levels = [decision_values.min()] + [0] + [\n",
    "            decision_values.max()]\n",
    "\n",
    "for s in range(2):\n",
    "    plt.scatter(data_test[(classes_predicted== s),0],data_test[(classes_predicted == s),1],marker='o', color=color[s])\n",
    "ax = plt.gca()\n",
    "ax.contour(X1, X2, decision_values.reshape(X1.shape), levels=[0])"
   ]
  },
  {
   "cell_type": "markdown",
   "metadata": {},
   "source": [
    "## Part 3 - An alternative classifier "
   ]
  },
  {
   "cell_type": "markdown",
   "metadata": {},
   "source": [
    "#### <span style=\"color: red\"> Task 3:</span> Explore the use of an alternative classification algorithm (7 marks)\n",
    "This part of the coursework will explore the use of functionality in Scikit Learn that you have not previously used. By now, you should be comfortable with using online resources to find out how to use new bits of python code. Please read the description of the task carefully and provide all of the output requested in order to achieve full marks.\n",
    "\n",
    "You should use the `KNeighboursClassifier` to classify your dataset from earlier in the coursework, training with the training set and testing performance on the test set. You will need to explore how the performace varies with parameterisation of the classifier.\n",
    "\n",
    "You should provide:\n",
    "\n",
    "- A plot of the fraction of your training and test points correctly classified as a function of the number of neighbours used by the classifier with values ranging from 1 to 20;\n",
    "- A statement of the optimum value of the number of neighbours for your data, including a brief explanation of your choice;\n",
    "- A brief explanation of how the nearest-neighbours classifier works. Your explanation should contain no more than 50 words and should consist of complete sentences. This part is to test your ability to express scientific ideas precisely, yet concisely. Answers which have too many words or which are not full sentences will get zero."
   ]
  },
  {
   "cell_type": "code",
   "execution_count": 101,
   "metadata": {},
   "outputs": [
    {
     "name": "stdout",
     "output_type": "stream",
     "text": [
      "[1.0, 1.0, 1.0, 1.0, 1.0, 1.0, 1.0, 1.0, 1.0, 1.0, 1.0, 1.0, 1.0, 1.0, 1.0, 1.0, 1.0, 1.0, 1.0, 1.0]\n",
      "[0.9, 0.86, 0.88, 0.88, 0.88, 0.88, 0.88, 0.84, 0.88, 0.86, 0.9, 0.88, 0.92, 0.92, 0.92, 0.92, 0.92, 0.92, 0.92, 0.92]\n"
     ]
    },
    {
     "data": {
      "text/plain": [
       "<matplotlib.legend.Legend at 0x263f190d940>"
      ]
     },
     "execution_count": 101,
     "metadata": {},
     "output_type": "execute_result"
    },
    {
     "data": {
      "image/png": "[encoded data removed]",
      "text/plain": [
       "<Figure size 432x288 with 1 Axes>"
      ]
     },
     "metadata": {
      "needs_background": "light"
     },
     "output_type": "display_data"
    }
   ],
   "source": [
    "from sklearn.neighbors import KNeighborsClassifier\n",
    "\n",
    "n_neighbours = []\n",
    "train_fractions = [] \n",
    "test_fractions = []\n",
    "\n",
    "for i in range(1,21):\n",
    "    KNeighbours = KNeighborsClassifier(n_neighbors=i).fit(data_train,classes_train)\n",
    "    training_classes_predicted = KNeighbours.predict(data_train)\n",
    "    test_classes_predicted = KNeighbours.predict(data_test)\n",
    "    \n",
    "    train_frac = np.sum(classes_train==train_classes_predicted)/np.size(classes_train)\n",
    "    test_frac =  np.sum(classes_test==test_classes_predicted)/np.size(classes_test)\n",
    "    \n",
    "    n_neighbours.append(i)\n",
    "    train_fractions.append(train_frac)\n",
    "    test_fractions.append(test_frac)\n",
    "    \n",
    "print(train_fractions)\n",
    "print(test_fractions)\n",
    "\n",
    "plt.plot(n_neighbours,train_fractions,label='training data')\n",
    "plt.plot(n_neighbours,test_fractions,label='test data')\n",
    "plt.xlabel('Number of nearest neighbours, n')\n",
    "plt.ylabel('Fraction of points classified correctly')\n",
    "plt.legend()"
   ]
  },
  {
   "cell_type": "markdown",
   "metadata": {},
   "source": [
    "The optimum value for my data is n = 13. This value of  n gives the the highest fit of test data at 0.92. There are other values that give 0.92, the reason I went with n = 13 is because it is the first value to give the highest accuracy."
   ]
  },
  {
   "cell_type": "markdown",
   "metadata": {},
   "source": [
    "The nearest-neighbour classifier evaluates a point by considering the classes of the nearest **n** neighbours, each neighbour casts a vote which are then tallied, the point then belongs to the class that it was given the most votes from,this process is repeated for all points to be evaluated."
   ]
  },
  {
   "cell_type": "markdown",
   "metadata": {
    "collapsed": true
   },
   "source": [
    "### For use by markers only:\n",
    "\n",
    "#### Total mark: $\\hspace{1cm}$/25\n",
    "\n",
    "#### As a percentage:"
   ]
  },
  {
   "cell_type": "code",
   "execution_count": null,
   "metadata": {
    "collapsed": true
   },
   "outputs": [],
   "source": []
  }
 ],
 "metadata": {
  "kernelspec": {
   "display_name": "Python 3 (ipykernel)",
   "language": "python",
   "name": "python3"
  },
  "language_info": {
   "codemirror_mode": {
    "name": "ipython",
    "version": 3
   },
   "file_extension": ".py",
   "mimetype": "text/x-python",
   "name": "python",
   "nbconvert_exporter": "python",
   "pygments_lexer": "ipython3",
   "version": "3.9.7"
  },
  "toc": {
   "colors": {
    "hover_highlight": "#DAA520",
    "running_highlight": "#FF0000",
    "selected_highlight": "#FFD700"
   },
   "moveMenuLeft": true,
   "nav_menu": {
    "height": "512px",
    "width": "252px"
   },
   "navigate_menu": true,
   "number_sections": true,
   "sideBar": true,
   "threshold": 4,
   "toc_cell": false,
   "toc_section_display": "block",
   "toc_window_display": false
  }
 },
 "nbformat": 4,
 "nbformat_minor": 2
}
